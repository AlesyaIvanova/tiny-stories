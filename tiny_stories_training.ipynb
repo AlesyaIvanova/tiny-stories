{
  "cells": [
    {
      "cell_type": "code",
      "execution_count": 1,
      "metadata": {
        "id": "-G78V1iTab22"
      },
      "outputs": [],
      "source": [
        "%load_ext autoreload\n",
        "%autoreload 2"
      ]
    },
    {
      "cell_type": "code",
      "execution_count": null,
      "metadata": {
        "id": "FGDooqHhalJn"
      },
      "outputs": [],
      "source": [
        "%pip install wandb"
      ]
    },
    {
      "cell_type": "code",
      "execution_count": null,
      "metadata": {
        "id": "bUJAhPjkap0q"
      },
      "outputs": [],
      "source": [
        "!pip install sentencepiece"
      ]
    },
    {
      "cell_type": "code",
      "execution_count": 4,
      "metadata": {
        "id": "0vsrmZ6WasD7"
      },
      "outputs": [],
      "source": [
        "dir = 'drive/MyDrive/bhmw1blms/'"
      ]
    },
    {
      "cell_type": "code",
      "execution_count": 5,
      "metadata": {
        "id": "nHqiIGo2asna"
      },
      "outputs": [],
      "source": [
        "import sys\n",
        "sys.path.append('/content/drive/MyDrive/bhmw1blms')\n",
        "from dataset import TextDataset"
      ]
    },
    {
      "cell_type": "code",
      "execution_count": null,
      "metadata": {
        "id": "z9hxLxp-a2Gd"
      },
      "outputs": [],
      "source": [
        "from dataset import TextDataset\n",
        "\n",
        "train_set = TextDataset(data_file=dir+'all_data.txt', data_file_for_tokenizer=dir+'data_for_tokenizer.txt', vocab_size=4000, train=True, sp_model_prefix=dir+'bpe', max_length=256)\n",
        "valid_set = TextDataset(data_file=dir+'all_data.txt', data_file_for_tokenizer=dir+'data_for_tokenizer.txt', vocab_size=4000, train=False, sp_model_prefix=dir+'bpe', max_length=256)"
      ]
    },
    {
      "cell_type": "code",
      "execution_count": null,
      "metadata": {
        "id": "Fy2DS53Ra3xQ"
      },
      "outputs": [],
      "source": [
        "from torch.utils.data import DataLoader\n",
        "\n",
        "train_loader = DataLoader(train_set, num_workers=12, shuffle=True, batch_size=512)\n",
        "val_loader = DataLoader(valid_set, num_workers=12, shuffle=False, batch_size=512)"
      ]
    },
    {
      "cell_type": "code",
      "execution_count": null,
      "metadata": {
        "id": "rVUjSil8a-va"
      },
      "outputs": [],
      "source": [
        "from train import train, CosineAnnealingWithWarmupLR\n",
        "from model import TransformerForStoryGeneration\n",
        "import torch\n",
        "import warnings\n",
        "warnings.filterwarnings('ignore')\n",
        "\n",
        "device = torch.device('cuda' if torch.cuda.is_available() else 'cpu')\n",
        "\n",
        "model7 = TransformerForStoryGeneration(train_set, embed_dim=512, num_heads=8, feedforward_dim=2048, num_layers=8, device=device).to(device)\n",
        "# model7.load_state_dict(torch.load(dir+\"model7_10_model.pth\"))"
      ]
    },
    {
      "cell_type": "code",
      "execution_count": null,
      "metadata": {
        "id": "ma8l0-qjbC3y"
      },
      "outputs": [],
      "source": [
        "num_epochs_for_scheduler = 100\n",
        "num_epochs = 100\n",
        "warmup_steps = num_epochs_for_scheduler * len(train_loader) // 10 + 1\n",
        "lr = 3e-4\n",
        "\n",
        "optimizer = torch.optim.Adam(model7.parameters(), lr=lr, weight_decay=0.0)\n",
        "# optimizer.load_state_dict(torch.load(dir+\"model7_10_optimizer.pth\"))\n",
        "\n",
        "scheduler = CosineAnnealingWithWarmupLR(\n",
        "    optimizer,\n",
        "    warmup_steps=warmup_steps,\n",
        "    max_steps=int(num_epochs_for_scheduler * len(train_loader))\n",
        ")\n",
        "# scheduler.load_state_dict(torch.load(dir+\"model7_10_scheduler.pth\"))\n",
        "\n",
        "train(model=model7, optimizer=optimizer, scheduler=scheduler, train_loader=train_loader, val_loader=val_loader, num_epochs=num_epochs, model_name=dir+\"model7\", save_every=1, num_examples=5)"
      ]
    }
  ],
  "metadata": {
    "colab": {
      "machine_shape": "hm",
      "provenance": []
    },
    "kernelspec": {
      "display_name": "Python 3",
      "name": "python3"
    },
    "language_info": {
      "name": "python"
    }
  },
  "nbformat": 4,
  "nbformat_minor": 0
}
